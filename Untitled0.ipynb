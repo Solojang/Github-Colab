{
  "nbformat": 4,
  "nbformat_minor": 0,
  "metadata": {
    "colab": {
      "name": "Untitled0.ipynb",
      "provenance": [],
      "authorship_tag": "ABX9TyMEqsTL91vrhMfBVOAWCM64",
      "include_colab_link": true
    },
    "kernelspec": {
      "name": "python3",
      "display_name": "Python 3"
    }
  },
  "cells": [
    {
      "cell_type": "markdown",
      "metadata": {
        "id": "view-in-github",
        "colab_type": "text"
      },
      "source": [
        "<a href=\"https://colab.research.google.com/github/Solojang/Github-Colab/blob/master/Untitled0.ipynb\" target=\"_parent\"><img src=\"https://colab.research.google.com/assets/colab-badge.svg\" alt=\"Open In Colab\"/></a>"
      ]
    },
    {
      "cell_type": "code",
      "metadata": {
        "id": "x9wwokdaehm_",
        "colab_type": "code",
        "colab": {
          "base_uri": "https://localhost:8080/",
          "height": 71
        },
        "outputId": "cf3ef902-842e-4498-80ff-4e3f165ed1dc"
      },
      "source": [
        "# calculate for triangle\n",
        "h = 5\n",
        "b = 7\n",
        "area = 1/2 * b * h\n",
        "print (\"Given hight = \", h)\n",
        "print (\"Given base = \", b)\n",
        "print (\"Area is = \", area)"
      ],
      "execution_count": 1,
      "outputs": [
        {
          "output_type": "stream",
          "text": [
            "Given hight =  5\n",
            "Given base =  7\n",
            "Area is =  17.5\n"
          ],
          "name": "stdout"
        }
      ]
    },
    {
      "cell_type": "code",
      "metadata": {
        "id": "r5F4T-cH4J7G",
        "colab_type": "code",
        "colab": {}
      },
      "source": [
        "# calculate for triangle\n",
        "#so, I want to let user to input h and b and calculate the area\n",
        "#that is how C++ works\n",
        "printf (\"please input height = \\n\", n)\n",
        "scanf (\"%d\", &n)\n",
        "#however it seem does not on python\n",
        "h = n\n",
        "b = m\n",
        "area = 1/2 * b * h\n",
        "print (\"Given hight = \", h)\n",
        "print (\"Given base = \", b)\n",
        "print (\"Area is = \", area)"
      ],
      "execution_count": null,
      "outputs": []
    }
  ]
}